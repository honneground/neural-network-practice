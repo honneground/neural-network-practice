{
 "cells": [
  {
   "cell_type": "markdown",
   "metadata": {},
   "source": [
    "# Set Up the Environment\n",
    "\n",
    "> pip install torch torchvision"
   ]
  },
  {
   "cell_type": "markdown",
   "metadata": {},
   "source": [
    "# Import the Necessary Libraries, and Load and Transform the MNIST Dataset\n"
   ]
  },
  {
   "cell_type": "code",
   "execution_count": 6,
   "metadata": {},
   "outputs": [],
   "source": [
    "import torch\n",
    "import torchvision\n",
    "import torchvision.transforms as transforms\n",
    "from torch import nn, optim\n",
    "from torch.utils.data import DataLoader\n",
    "from torchvision.datasets import MNIST\n",
    "import time\n",
    "\n",
    "transform = transforms.Compose([transforms.ToTensor(), transforms.Normalize((0.5,), (0.5,))])\n",
    "\n",
    "trainset = MNIST(root='./data', train=True, download=True, transform=transform)\n",
    "testset = MNIST(root='./data', train=False, download=True, transform=transform)\n",
    "\n",
    "trainloader = DataLoader(trainset, batch_size=64, shuffle=True)\n",
    "testloader = DataLoader(testset, batch_size=64, shuffle=False)"
   ]
  },
  {
   "cell_type": "markdown",
   "metadata": {},
   "source": [
    "# Define the Neural Network Architecture"
   ]
  },
  {
   "cell_type": "code",
   "execution_count": 7,
   "metadata": {},
   "outputs": [],
   "source": [
    "class Net(nn.Module):\n",
    "    def __init__(self):\n",
    "        super(Net, self).__init__()\n",
    "        self.fc1 = nn.Linear(28 * 28, 512)\n",
    "        self.fc2 = nn.Linear(512, 256)\n",
    "        self.fc3 = nn.Linear(256, 10)\n",
    "\n",
    "    def forward(self, x):\n",
    "        x = x.view(-1, 28 * 28)  # Flatten the image\n",
    "        x = torch.sigmoid(self.fc1(x))\n",
    "        x = torch.sigmoid(self.fc2(x))\n",
    "        x = self.fc3(x)  # No activation needed for the output layer with CrossEntropyLoss\n",
    "        return x\n",
    "\n",
    "model = Net()"
   ]
  },
  {
   "cell_type": "markdown",
   "metadata": {},
   "source": [
    "# Define a Loss Function and Optimizer"
   ]
  },
  {
   "cell_type": "code",
   "execution_count": 8,
   "metadata": {},
   "outputs": [],
   "source": [
    "criterion = nn.CrossEntropyLoss()\n",
    "optimizer = optim.SGD(model.parameters(), lr=0.01, momentum=0.9)"
   ]
  },
  {
   "cell_type": "markdown",
   "metadata": {},
   "source": [
    "# Train the Network"
   ]
  },
  {
   "cell_type": "code",
   "execution_count": 9,
   "metadata": {},
   "outputs": [
    {
     "name": "stdout",
     "output_type": "stream",
     "text": [
      "[1,   100] loss: 2.316\n",
      "[1,   200] loss: 2.264\n",
      "[1,   300] loss: 2.124\n",
      "[1,   400] loss: 1.697\n",
      "[1,   500] loss: 1.204\n",
      "[1,   600] loss: 0.907\n",
      "[1,   700] loss: 0.753\n",
      "[1,   800] loss: 0.640\n",
      "[1,   900] loss: 0.580\n",
      "[2,   100] loss: 0.489\n",
      "[2,   200] loss: 0.471\n",
      "[2,   300] loss: 0.459\n",
      "[2,   400] loss: 0.431\n",
      "[2,   500] loss: 0.417\n",
      "[2,   600] loss: 0.393\n",
      "[2,   700] loss: 0.387\n",
      "[2,   800] loss: 0.379\n",
      "[2,   900] loss: 0.366\n",
      "[3,   100] loss: 0.346\n",
      "[3,   200] loss: 0.363\n",
      "[3,   300] loss: 0.342\n",
      "[3,   400] loss: 0.339\n",
      "[3,   500] loss: 0.338\n",
      "[3,   600] loss: 0.306\n",
      "[3,   700] loss: 0.341\n",
      "[3,   800] loss: 0.329\n",
      "[3,   900] loss: 0.323\n",
      "[4,   100] loss: 0.319\n",
      "[4,   200] loss: 0.303\n",
      "[4,   300] loss: 0.316\n",
      "[4,   400] loss: 0.293\n",
      "[4,   500] loss: 0.310\n",
      "[4,   600] loss: 0.302\n",
      "[4,   700] loss: 0.276\n",
      "[4,   800] loss: 0.272\n",
      "[4,   900] loss: 0.296\n",
      "[5,   100] loss: 0.285\n",
      "[5,   200] loss: 0.266\n",
      "[5,   300] loss: 0.275\n",
      "[5,   400] loss: 0.272\n",
      "[5,   500] loss: 0.272\n",
      "[5,   600] loss: 0.268\n",
      "[5,   700] loss: 0.245\n",
      "[5,   800] loss: 0.267\n",
      "[5,   900] loss: 0.248\n",
      "[6,   100] loss: 0.243\n",
      "[6,   200] loss: 0.246\n",
      "[6,   300] loss: 0.244\n",
      "[6,   400] loss: 0.236\n",
      "[6,   500] loss: 0.241\n",
      "[6,   600] loss: 0.238\n",
      "[6,   700] loss: 0.248\n",
      "[6,   800] loss: 0.234\n",
      "[6,   900] loss: 0.224\n",
      "[7,   100] loss: 0.224\n",
      "[7,   200] loss: 0.217\n",
      "[7,   300] loss: 0.225\n",
      "[7,   400] loss: 0.221\n",
      "[7,   500] loss: 0.212\n",
      "[7,   600] loss: 0.207\n",
      "[7,   700] loss: 0.201\n",
      "[7,   800] loss: 0.214\n",
      "[7,   900] loss: 0.183\n",
      "[8,   100] loss: 0.192\n",
      "[8,   200] loss: 0.204\n",
      "[8,   300] loss: 0.190\n",
      "[8,   400] loss: 0.191\n",
      "[8,   500] loss: 0.193\n",
      "[8,   600] loss: 0.199\n",
      "[8,   700] loss: 0.195\n",
      "[8,   800] loss: 0.185\n",
      "[8,   900] loss: 0.186\n",
      "[9,   100] loss: 0.177\n",
      "[9,   200] loss: 0.185\n",
      "[9,   300] loss: 0.175\n",
      "[9,   400] loss: 0.189\n",
      "[9,   500] loss: 0.170\n",
      "[9,   600] loss: 0.176\n",
      "[9,   700] loss: 0.179\n",
      "[9,   800] loss: 0.166\n",
      "[9,   900] loss: 0.165\n",
      "[10,   100] loss: 0.164\n",
      "[10,   200] loss: 0.151\n",
      "[10,   300] loss: 0.170\n",
      "[10,   400] loss: 0.163\n",
      "[10,   500] loss: 0.160\n",
      "[10,   600] loss: 0.166\n",
      "[10,   700] loss: 0.147\n",
      "[10,   800] loss: 0.158\n",
      "[10,   900] loss: 0.144\n",
      "Finished Training\n"
     ]
    }
   ],
   "source": [
    "start_time = time.time()\n",
    "for epoch in range(10):  # loop over the dataset multiple times\n",
    "\n",
    "    running_loss = 0.0\n",
    "    for i, data in enumerate(trainloader, 0):\n",
    "        # get the inputs; data is a list of [inputs, labels]\n",
    "        inputs, labels = data\n",
    "\n",
    "        # zero the parameter gradients\n",
    "        optimizer.zero_grad()\n",
    "\n",
    "        # forward + backward + optimize\n",
    "        outputs = model(inputs)\n",
    "        loss = criterion(outputs, labels)\n",
    "        loss.backward()\n",
    "        optimizer.step()\n",
    "\n",
    "        # print statistics\n",
    "        running_loss += loss.item()\n",
    "        if i % 100 == 99:    # print every 100 mini-batches\n",
    "            print(f'[{epoch + 1}, {i + 1:5d}] loss: {running_loss / 100:.3f}')\n",
    "            running_loss = 0.0\n",
    "\n",
    "end_time = time.time()\n",
    "\n",
    "print('Finished Training')\n",
    "total_time = end_time - start_time"
   ]
  },
  {
   "cell_type": "markdown",
   "metadata": {},
   "source": [
    "# Test the Network on the Test Data"
   ]
  },
  {
   "cell_type": "code",
   "execution_count": 10,
   "metadata": {},
   "outputs": [
    {
     "name": "stdout",
     "output_type": "stream",
     "text": [
      "# Statistics #\n",
      "Total time taken for raining with Sigmoid activation function: 113.86 seconds\n",
      "Accuracy of the network on the 10,000 test images: 95 %\n"
     ]
    }
   ],
   "source": [
    "correct = 0\n",
    "total = 0\n",
    "with torch.no_grad():\n",
    "    for data in testloader:\n",
    "        images, labels = data\n",
    "        outputs = model(images)\n",
    "        _, predicted = torch.max(outputs.data, 1)\n",
    "        total += labels.size(0)\n",
    "        correct += (predicted == labels).sum().item()\n",
    "    \n",
    "print(\"# Statistics #\")\n",
    "print(f'Total time taken for raining with Sigmoid activation function: {total_time:.2f} seconds')\n",
    "print('Accuracy of the network on the 10,000 test images: %d %%' % (\n",
    "    100 * correct / total))"
   ]
  }
 ],
 "metadata": {
  "kernelspec": {
   "display_name": "Python 3",
   "language": "python",
   "name": "python3"
  },
  "language_info": {
   "codemirror_mode": {
    "name": "ipython",
    "version": 3
   },
   "file_extension": ".py",
   "mimetype": "text/x-python",
   "name": "python",
   "nbconvert_exporter": "python",
   "pygments_lexer": "ipython3",
   "version": "3.10.12"
  }
 },
 "nbformat": 4,
 "nbformat_minor": 2
}
