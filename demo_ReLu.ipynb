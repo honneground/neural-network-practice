{
 "cells": [
  {
   "cell_type": "markdown",
   "metadata": {},
   "source": [
    "# Set Up the Environment\n",
    "\n",
    "> pip install torch torchvision"
   ]
  },
  {
   "cell_type": "markdown",
   "metadata": {},
   "source": [
    "# Import the Necessary Libraries, and Load and Transform the MNIST Dataset\n"
   ]
  },
  {
   "cell_type": "code",
   "execution_count": 1,
   "metadata": {},
   "outputs": [],
   "source": [
    "import torch\n",
    "import torchvision\n",
    "import torchvision.transforms as transforms\n",
    "from torch import nn, optim\n",
    "from torch.utils.data import DataLoader\n",
    "from torchvision.datasets import MNIST\n",
    "import time\n",
    "\n",
    "\n",
    "transform = transforms.Compose([transforms.ToTensor(), transforms.Normalize((0.5,), (0.5,))])\n",
    "\n",
    "trainset = MNIST(root='./data', train=True, download=True, transform=transform)\n",
    "testset = MNIST(root='./data', train=False, download=True, transform=transform)\n",
    "\n",
    "trainloader = DataLoader(trainset, batch_size=64, shuffle=True)\n",
    "testloader = DataLoader(testset, batch_size=64, shuffle=False)"
   ]
  },
  {
   "cell_type": "markdown",
   "metadata": {},
   "source": [
    "# Define the Neural Network Architecture"
   ]
  },
  {
   "cell_type": "code",
   "execution_count": 2,
   "metadata": {},
   "outputs": [],
   "source": [
    "class Net(nn.Module):\n",
    "    def __init__(self):\n",
    "        super(Net, self).__init__()\n",
    "        self.fc1 = nn.Linear(28 * 28, 512)\n",
    "        self.fc2 = nn.Linear(512, 256)\n",
    "        self.fc3 = nn.Linear(256, 10)\n",
    "\n",
    "    def forward(self, x):\n",
    "        x = x.view(-1, 28 * 28)\n",
    "        x = torch.relu(self.fc1(x))\n",
    "        x = torch.relu(self.fc2(x))\n",
    "        x = self.fc3(x)\n",
    "        return x\n",
    "\n",
    "model = Net()"
   ]
  },
  {
   "cell_type": "markdown",
   "metadata": {},
   "source": [
    "# Define a Loss Function and Optimizer"
   ]
  },
  {
   "cell_type": "code",
   "execution_count": 3,
   "metadata": {},
   "outputs": [],
   "source": [
    "criterion = nn.CrossEntropyLoss()\n",
    "optimizer = optim.SGD(model.parameters(), lr=0.01, momentum=0.9)"
   ]
  },
  {
   "cell_type": "markdown",
   "metadata": {},
   "source": [
    "# Train the Network"
   ]
  },
  {
   "cell_type": "code",
   "execution_count": 4,
   "metadata": {},
   "outputs": [
    {
     "name": "stdout",
     "output_type": "stream",
     "text": [
      "[1,   100] loss: 1.218\n",
      "[1,   200] loss: 0.443\n",
      "[1,   300] loss: 0.386\n",
      "[1,   400] loss: 0.308\n",
      "[1,   500] loss: 0.286\n",
      "[1,   600] loss: 0.263\n",
      "[1,   700] loss: 0.243\n",
      "[1,   800] loss: 0.238\n",
      "[1,   900] loss: 0.207\n",
      "[2,   100] loss: 0.185\n",
      "[2,   200] loss: 0.164\n",
      "[2,   300] loss: 0.159\n",
      "[2,   400] loss: 0.159\n",
      "[2,   500] loss: 0.167\n",
      "[2,   600] loss: 0.142\n",
      "[2,   700] loss: 0.139\n",
      "[2,   800] loss: 0.152\n",
      "[2,   900] loss: 0.133\n",
      "[3,   100] loss: 0.115\n",
      "[3,   200] loss: 0.109\n",
      "[3,   300] loss: 0.114\n",
      "[3,   400] loss: 0.111\n",
      "[3,   500] loss: 0.104\n",
      "[3,   600] loss: 0.105\n",
      "[3,   700] loss: 0.098\n",
      "[3,   800] loss: 0.100\n",
      "[3,   900] loss: 0.102\n",
      "[4,   100] loss: 0.097\n",
      "[4,   200] loss: 0.080\n",
      "[4,   300] loss: 0.079\n",
      "[4,   400] loss: 0.086\n",
      "[4,   500] loss: 0.085\n",
      "[4,   600] loss: 0.088\n",
      "[4,   700] loss: 0.088\n",
      "[4,   800] loss: 0.087\n",
      "[4,   900] loss: 0.080\n",
      "[5,   100] loss: 0.062\n",
      "[5,   200] loss: 0.077\n",
      "[5,   300] loss: 0.065\n",
      "[5,   400] loss: 0.064\n",
      "[5,   500] loss: 0.066\n",
      "[5,   600] loss: 0.075\n",
      "[5,   700] loss: 0.064\n",
      "[5,   800] loss: 0.073\n",
      "[5,   900] loss: 0.075\n",
      "[6,   100] loss: 0.063\n",
      "[6,   200] loss: 0.057\n",
      "[6,   300] loss: 0.045\n",
      "[6,   400] loss: 0.057\n",
      "[6,   500] loss: 0.046\n",
      "[6,   600] loss: 0.052\n",
      "[6,   700] loss: 0.067\n",
      "[6,   800] loss: 0.058\n",
      "[6,   900] loss: 0.059\n",
      "[7,   100] loss: 0.041\n",
      "[7,   200] loss: 0.044\n",
      "[7,   300] loss: 0.055\n",
      "[7,   400] loss: 0.051\n",
      "[7,   500] loss: 0.052\n",
      "[7,   600] loss: 0.054\n",
      "[7,   700] loss: 0.041\n",
      "[7,   800] loss: 0.052\n",
      "[7,   900] loss: 0.053\n",
      "[8,   100] loss: 0.042\n",
      "[8,   200] loss: 0.039\n",
      "[8,   300] loss: 0.038\n",
      "[8,   400] loss: 0.046\n",
      "[8,   500] loss: 0.034\n",
      "[8,   600] loss: 0.047\n",
      "[8,   700] loss: 0.033\n",
      "[8,   800] loss: 0.039\n",
      "[8,   900] loss: 0.041\n",
      "[9,   100] loss: 0.037\n",
      "[9,   200] loss: 0.033\n",
      "[9,   300] loss: 0.032\n",
      "[9,   400] loss: 0.034\n",
      "[9,   500] loss: 0.031\n",
      "[9,   600] loss: 0.032\n",
      "[9,   700] loss: 0.046\n",
      "[9,   800] loss: 0.038\n",
      "[9,   900] loss: 0.039\n",
      "[10,   100] loss: 0.025\n",
      "[10,   200] loss: 0.024\n",
      "[10,   300] loss: 0.028\n",
      "[10,   400] loss: 0.032\n",
      "[10,   500] loss: 0.026\n",
      "[10,   600] loss: 0.030\n",
      "[10,   700] loss: 0.030\n",
      "[10,   800] loss: 0.026\n",
      "[10,   900] loss: 0.034\n",
      "Finished Training\n"
     ]
    }
   ],
   "source": [
    "start_time = time.time()\n",
    "for epoch in range(10):  # loop over the dataset multiple times\n",
    "\n",
    "    running_loss = 0.0\n",
    "    for i, data in enumerate(trainloader, 0):\n",
    "        # get the inputs; data is a list of [inputs, labels]\n",
    "        inputs, labels = data\n",
    "\n",
    "        # zero the parameter gradients\n",
    "        optimizer.zero_grad()\n",
    "\n",
    "        # forward + backward + optimize\n",
    "        outputs = model(inputs)\n",
    "        loss = criterion(outputs, labels)\n",
    "        loss.backward()\n",
    "        optimizer.step()\n",
    "\n",
    "        # print statistics\n",
    "        running_loss += loss.item()\n",
    "        if i % 100 == 99:    # print every 100 mini-batches\n",
    "            print(f'[{epoch + 1}, {i + 1:5d}] loss: {running_loss / 100:.3f}')\n",
    "            running_loss = 0.0\n",
    "end_time = time.time()\n",
    "\n",
    "print('Finished Training')\n",
    "total_time = end_time - start_time"
   ]
  },
  {
   "cell_type": "markdown",
   "metadata": {},
   "source": [
    "# Test the Network on the Test Data"
   ]
  },
  {
   "cell_type": "code",
   "execution_count": 5,
   "metadata": {},
   "outputs": [
    {
     "name": "stdout",
     "output_type": "stream",
     "text": [
      "# Statistics #\n",
      "Total time taken for raining with ReLu activation function: 131.77 seconds\n",
      "Accuracy of the network on the 10,000 test images: 97 %\n"
     ]
    }
   ],
   "source": [
    "correct = 0\n",
    "total = 0\n",
    "with torch.no_grad():\n",
    "    for data in testloader:\n",
    "        images, labels = data\n",
    "        outputs = model(images)\n",
    "        _, predicted = torch.max(outputs.data, 1)\n",
    "        total += labels.size(0)\n",
    "        correct += (predicted == labels).sum().item()\n",
    "\n",
    "print(\"# Statistics #\")\n",
    "print(f'Total time taken for raining with ReLu activation function: {total_time:.2f} seconds')\n",
    "print('Accuracy of the network on the 10,000 test images: %d %%' % (\n",
    "    100 * correct / total))"
   ]
  }
 ],
 "metadata": {
  "kernelspec": {
   "display_name": "Python 3",
   "language": "python",
   "name": "python3"
  },
  "language_info": {
   "codemirror_mode": {
    "name": "ipython",
    "version": 3
   },
   "file_extension": ".py",
   "mimetype": "text/x-python",
   "name": "python",
   "nbconvert_exporter": "python",
   "pygments_lexer": "ipython3",
   "version": "3.10.12"
  }
 },
 "nbformat": 4,
 "nbformat_minor": 2
}
